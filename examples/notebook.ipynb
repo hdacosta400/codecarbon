{
 "cells": [
  {
   "attachments": {},
   "cell_type": "markdown",
   "metadata": {},
   "source": [
    "# CodeCarbon usage in Notebook\n",
    "\n",
    "## Install CodeCarbon\n",
    "\n",
    "`pip install codecarbon`"
   ]
  },
  {
   "cell_type": "code",
   "execution_count": 1,
   "metadata": {
    "tags": []
   },
   "outputs": [
    {
     "name": "stderr",
     "output_type": "stream",
     "text": [
      "[codecarbon INFO @ 09:47:20] [setup] RAM Tracking...\n",
      "[codecarbon INFO @ 09:47:20] [setup] GPU Tracking...\n",
      "[codecarbon INFO @ 09:47:20] Tracking Nvidia GPU via pynvml\n",
      "[codecarbon INFO @ 09:47:20] [setup] CPU Tracking...\n",
      "[codecarbon DEBUG @ 09:47:20] Not using PowerGadget, an exception occurred while instantiating IntelPowerGadget : Platform not supported by Intel Power Gadget\n",
      "[codecarbon DEBUG @ 09:47:20] We will read Intel RAPL files at /sys/class/powercap/intel-rapl/intel-rapl:1/energy_uj\n",
      "[codecarbon DEBUG @ 09:47:20] We will read Intel RAPL files at /sys/class/powercap/intel-rapl/intel-rapl:0/energy_uj\n",
      "[codecarbon INFO @ 09:47:20] Tracking Intel CPU via RAPL interface\n",
      "[codecarbon DEBUG @ 09:47:21] We will read Intel RAPL files at /sys/class/powercap/intel-rapl/intel-rapl:1/energy_uj\n",
      "[codecarbon DEBUG @ 09:47:21] We will read Intel RAPL files at /sys/class/powercap/intel-rapl/intel-rapl:0/energy_uj\n",
      "[codecarbon INFO @ 09:47:21] >>> Tracker's metadata:\n",
      "[codecarbon INFO @ 09:47:21]   Platform system: Linux-5.19.0-42-generic-x86_64-with-glibc2.35\n",
      "[codecarbon INFO @ 09:47:21]   Python version: 3.10.6\n",
      "[codecarbon INFO @ 09:47:21]   CodeCarbon version: 2.2.2\n",
      "[codecarbon INFO @ 09:47:21]   Available RAM : 31.197 GB\n",
      "[codecarbon INFO @ 09:47:21]   CPU count: 32\n",
      "[codecarbon INFO @ 09:47:21]   CPU model: AMD Ryzen Threadripper 1950X 16-Core Processor\n",
      "[codecarbon INFO @ 09:47:21]   GPU count: 1\n",
      "[codecarbon INFO @ 09:47:21]   GPU model: 1 x NVIDIA GeForce GTX 1080 Ti\n",
      "[codecarbon DEBUG @ 09:47:22] Not running on AWS\n",
      "[codecarbon DEBUG @ 09:47:23] Not running on Azure\n",
      "[codecarbon DEBUG @ 09:47:24] Not running on GCP\n"
     ]
    }
   ],
   "source": [
    "from codecarbon import EmissionsTracker\n",
    "tracker = EmissionsTracker(log_level=\"DEBUG\")\n",
    "# Start recording\n",
    "tracker.start()"
   ]
  },
  {
   "attachments": {},
   "cell_type": "markdown",
   "metadata": {},
   "source": [
    "_Do your stuff_"
   ]
  },
  {
   "cell_type": "code",
   "execution_count": 2,
   "metadata": {
    "tags": []
   },
   "outputs": [
    {
     "name": "stdout",
     "output_type": "stream",
     "text": [
      "\n",
      "7-Zip [64] 16.02 : Copyright (c) 1999-2016 Igor Pavlov : 2016-05-21\n",
      "p7zip Version 16.02 (locale=fr_FR.UTF-8,Utf16=on,HugeFiles=on,64 bits,32 CPUs AMD Ryzen Threadripper 1950X 16-Core Processor  (800F11),ASM,AES-NI)\n",
      "\n",
      "AMD Ryzen Threadripper 1950X 16-Core Processor  (800F11)\n",
      "CPU Freq: 32000000 32000000 2909090 4571428 7529411 11636363 51200000 146285714 60235294\n",
      "\n",
      "RAM size:   31945 MB,  # CPU hardware threads:  32\n",
      "RAM usage:   7060 MB,  # Benchmark threads:     32\n",
      "\n",
      "                       Compressing  |                  Decompressing\n",
      "Dict     Speed Usage    R/U Rating  |      Speed Usage    R/U Rating\n",
      "         KiB/s     %   MIPS   MIPS  |      KiB/s     %   MIPS   MIPS\n",
      "\n",
      "22:      51849  2889   1746  50440  |     996384  2878   2952  84971\n"
     ]
    },
    {
     "name": "stderr",
     "output_type": "stream",
     "text": [
      "[codecarbon INFO @ 09:47:39] Energy consumed for RAM : 0.000049 kWh. RAM Power : 11.698762893676758 W\n",
      "[codecarbon DEBUG @ 09:47:39] RAM : 11.70 W during 15.00 s [measurement time: 0.0049]\n",
      "[codecarbon INFO @ 09:47:39] Energy consumed for all GPUs : 0.000299 kWh. Total GPU Power : 71.615 W\n",
      "[codecarbon DEBUG @ 09:47:39] GPU : 72.10 W during 15.01 s [measurement time: 0.0137]\n",
      "[codecarbon DEBUG @ 09:47:39] RAPLFile(name='Processor Energy Delta_0(kWh)', path='/sys/class/powercap/intel-rapl/intel-rapl:1/energy_uj', max_path='/sys/class/powercap/intel-rapl/intel-rapl:1/max_energy_range_uj', energy_delta=Energy(kWh=0.0005422350673988177), power=Power(kW=0.12982596250002967), last_energy=Energy(kWh=0.016440508686285313), max_energy_reading=Energy(kWh=0.018203517614746884))\n",
      "[codecarbon DEBUG @ 09:47:39] RAPLFile(name='Processor Energy Delta_1(kWh)', path='/sys/class/powercap/intel-rapl/intel-rapl:0/energy_uj', max_path='/sys/class/powercap/intel-rapl/intel-rapl:0/max_energy_range_uj', energy_delta=Energy(kWh=0.000542242577682605), power=Power(kW=0.12982776066816734), last_energy=Energy(kWh=0.01644054082992214), max_energy_reading=Energy(kWh=0.018203517614746884))\n",
      "[codecarbon DEBUG @ 09:47:39] get_cpu_details {'Processor Energy Delta_0(kWh)': 0.0005422350673988177, 'Processor Power Delta_0(kWh)': 129.82596250002968, 'Processor Energy Delta_1(kWh)': 0.000542242577682605, 'Processor Power Delta_1(kWh)': 129.82776066816734}\n",
      "[codecarbon DEBUG @ 09:47:39] get_static_cpu_details {'Processor Energy Delta_0(kWh)': 0.0005422350673988177, 'Processor Power Delta_0(kWh)': 129.82596250002968, 'Processor Energy Delta_1(kWh)': 0.000542242577682605, 'Processor Power Delta_1(kWh)': 129.82776066816734}\n",
      "[codecarbon DEBUG @ 09:47:39] _get_power_from_cpus - DONT MATCH Processor Energy Delta_0(kWh) : 0.0005422350673988177\n",
      "[codecarbon DEBUG @ 09:47:39] _get_power_from_cpus - MATCH Processor Power Delta_0(kWh) : 129.82596250002968\n",
      "[codecarbon DEBUG @ 09:47:39] _get_power_from_cpus - DONT MATCH Processor Energy Delta_1(kWh) : 0.000542242577682605\n",
      "[codecarbon DEBUG @ 09:47:39] _get_power_from_cpus - MATCH Processor Power Delta_1(kWh) : 129.82776066816734\n",
      "[codecarbon INFO @ 09:47:39] Energy consumed for all CPUs : 0.001084 kWh. Total CPU Power : 259.653723168197 W\n",
      "[codecarbon DEBUG @ 09:47:39] get_static_cpu_details {'Processor Energy Delta_0(kWh)': 0.0005422350673988177, 'Processor Power Delta_0(kWh)': 129.82596250002968, 'Processor Energy Delta_1(kWh)': 0.000542242577682605, 'Processor Power Delta_1(kWh)': 129.82776066816734}\n",
      "[codecarbon DEBUG @ 09:47:39] _get_power_from_cpus - DONT MATCH Processor Energy Delta_0(kWh) : 0.0005422350673988177\n",
      "[codecarbon DEBUG @ 09:47:39] _get_power_from_cpus - MATCH Processor Power Delta_0(kWh) : 129.82596250002968\n",
      "[codecarbon DEBUG @ 09:47:39] _get_power_from_cpus - DONT MATCH Processor Energy Delta_1(kWh) : 0.000542242577682605\n",
      "[codecarbon DEBUG @ 09:47:39] _get_power_from_cpus - MATCH Processor Power Delta_1(kWh) : 129.82776066816734\n",
      "[codecarbon DEBUG @ 09:47:39] CPU : 259.65 W during 15.04 s [measurement time: 0.0380]\n",
      "[codecarbon INFO @ 09:47:39] 0.001432 kWh of electricity used since the beginning.\n",
      "[codecarbon DEBUG @ 09:47:39] last_duration=15.035869598388672\n",
      "------------------------\n"
     ]
    },
    {
     "name": "stdout",
     "output_type": "stream",
     "text": [
      "23:      43881  2732   1636  44710  |     917595  2718   2922  79401\n"
     ]
    },
    {
     "name": "stderr",
     "output_type": "stream",
     "text": [
      "[codecarbon INFO @ 09:47:54] Energy consumed for RAM : 0.000097 kWh. RAM Power : 11.698762893676758 W\n",
      "[codecarbon DEBUG @ 09:47:54] RAM : 11.70 W during 14.92 s [measurement time: 0.0016]\n",
      "[codecarbon INFO @ 09:47:54] Energy consumed for all GPUs : 0.000595 kWh. Total GPU Power : 71.464 W\n",
      "[codecarbon DEBUG @ 09:47:54] GPU : 71.45 W during 14.92 s [measurement time: 0.0095]\n",
      "[codecarbon DEBUG @ 09:47:54] RAPLFile(name='Processor Energy Delta_0(kWh)', path='/sys/class/powercap/intel-rapl/intel-rapl:1/energy_uj', max_path='/sys/class/powercap/intel-rapl/intel-rapl:1/max_energy_range_uj', energy_delta=Energy(kWh=0.0005488570488075099), power=Power(kW=0.1322009776720713), last_energy=Energy(kWh=0.016989365735092823), max_energy_reading=Energy(kWh=0.018203517614746884))\n",
      "[codecarbon DEBUG @ 09:47:54] RAPLFile(name='Processor Energy Delta_1(kWh)', path='/sys/class/powercap/intel-rapl/intel-rapl:0/energy_uj', max_path='/sys/class/powercap/intel-rapl/intel-rapl:0/max_energy_range_uj', energy_delta=Energy(kWh=0.0005488673988157874), power=Power(kW=0.13220347063670787), last_energy=Energy(kWh=0.01698940822873793), max_energy_reading=Energy(kWh=0.018203517614746884))\n",
      "[codecarbon DEBUG @ 09:47:54] get_cpu_details {'Processor Energy Delta_0(kWh)': 0.0005488570488075099, 'Processor Power Delta_0(kWh)': 132.2009776720713, 'Processor Energy Delta_1(kWh)': 0.0005488673988157874, 'Processor Power Delta_1(kWh)': 132.20347063670786}\n",
      "[codecarbon DEBUG @ 09:47:54] get_static_cpu_details {'Processor Energy Delta_0(kWh)': 0.0005488570488075099, 'Processor Power Delta_0(kWh)': 132.2009776720713, 'Processor Energy Delta_1(kWh)': 0.0005488673988157874, 'Processor Power Delta_1(kWh)': 132.20347063670786}\n",
      "[codecarbon DEBUG @ 09:47:54] _get_power_from_cpus - DONT MATCH Processor Energy Delta_0(kWh) : 0.0005488570488075099\n",
      "[codecarbon DEBUG @ 09:47:54] _get_power_from_cpus - MATCH Processor Power Delta_0(kWh) : 132.2009776720713\n",
      "[codecarbon DEBUG @ 09:47:54] _get_power_from_cpus - DONT MATCH Processor Energy Delta_1(kWh) : 0.0005488673988157874\n",
      "[codecarbon DEBUG @ 09:47:54] _get_power_from_cpus - MATCH Processor Power Delta_1(kWh) : 132.20347063670786\n",
      "[codecarbon INFO @ 09:47:54] Energy consumed for all CPUs : 0.002182 kWh. Total CPU Power : 264.40444830877914 W\n",
      "[codecarbon DEBUG @ 09:47:54] get_static_cpu_details {'Processor Energy Delta_0(kWh)': 0.0005488570488075099, 'Processor Power Delta_0(kWh)': 132.2009776720713, 'Processor Energy Delta_1(kWh)': 0.0005488673988157874, 'Processor Power Delta_1(kWh)': 132.20347063670786}\n",
      "[codecarbon DEBUG @ 09:47:54] _get_power_from_cpus - DONT MATCH Processor Energy Delta_0(kWh) : 0.0005488570488075099\n",
      "[codecarbon DEBUG @ 09:47:54] _get_power_from_cpus - MATCH Processor Power Delta_0(kWh) : 132.2009776720713\n",
      "[codecarbon DEBUG @ 09:47:54] _get_power_from_cpus - DONT MATCH Processor Energy Delta_1(kWh) : 0.0005488673988157874\n",
      "[codecarbon DEBUG @ 09:47:54] _get_power_from_cpus - MATCH Processor Power Delta_1(kWh) : 132.20347063670786\n",
      "[codecarbon DEBUG @ 09:47:54] CPU : 264.40 W during 14.95 s [measurement time: 0.0067]\n",
      "[codecarbon INFO @ 09:47:54] 0.002874 kWh of electricity used since the beginning.\n",
      "[codecarbon DEBUG @ 09:47:54] last_duration=14.946072340011597\n",
      "------------------------\n"
     ]
    },
    {
     "name": "stdout",
     "output_type": "stream",
     "text": [
      "24:      42240  2787   1630  45417  |     946232  2864   2900  83054\n"
     ]
    },
    {
     "name": "stderr",
     "output_type": "stream",
     "text": [
      "[codecarbon INFO @ 09:48:09] Energy consumed for RAM : 0.000146 kWh. RAM Power : 11.698762893676758 W\n",
      "[codecarbon DEBUG @ 09:48:09] RAM : 11.70 W during 14.97 s [measurement time: 0.0034]\n",
      "[codecarbon INFO @ 09:48:09] Energy consumed for all GPUs : 0.000894 kWh. Total GPU Power : 71.95100000000002 W\n",
      "[codecarbon DEBUG @ 09:48:09] GPU : 71.47 W during 14.98 s [measurement time: 0.0168]\n",
      "[codecarbon DEBUG @ 09:48:09] RAPLFile(name='Processor Energy Delta_0(kWh)', path='/sys/class/powercap/intel-rapl/intel-rapl:1/energy_uj', max_path='/sys/class/powercap/intel-rapl/intel-rapl:1/max_energy_range_uj', energy_delta=Energy(kWh=0.0005396472786619241), power=Power(kW=0.1292675188786008), last_energy=Energy(kWh=0.017529013013754747), max_energy_reading=Energy(kWh=0.018203517614746884))\n",
      "[codecarbon DEBUG @ 09:48:09] RAPLFile(name='Processor Energy Delta_1(kWh)', path='/sys/class/powercap/intel-rapl/intel-rapl:0/energy_uj', max_path='/sys/class/powercap/intel-rapl/intel-rapl:0/max_energy_range_uj', energy_delta=Energy(kWh=0.0005396375475430273), power=Power(kW=0.12926518787899155), last_energy=Energy(kWh=0.017529045776280956), max_energy_reading=Energy(kWh=0.018203517614746884))\n",
      "[codecarbon DEBUG @ 09:48:09] get_cpu_details {'Processor Energy Delta_0(kWh)': 0.0005396472786619241, 'Processor Power Delta_0(kWh)': 129.2675188786008, 'Processor Energy Delta_1(kWh)': 0.0005396375475430273, 'Processor Power Delta_1(kWh)': 129.26518787899155}\n",
      "[codecarbon DEBUG @ 09:48:09] get_static_cpu_details {'Processor Energy Delta_0(kWh)': 0.0005396472786619241, 'Processor Power Delta_0(kWh)': 129.2675188786008, 'Processor Energy Delta_1(kWh)': 0.0005396375475430273, 'Processor Power Delta_1(kWh)': 129.26518787899155}\n",
      "[codecarbon DEBUG @ 09:48:09] _get_power_from_cpus - DONT MATCH Processor Energy Delta_0(kWh) : 0.0005396472786619241\n",
      "[codecarbon DEBUG @ 09:48:09] _get_power_from_cpus - MATCH Processor Power Delta_0(kWh) : 129.2675188786008\n",
      "[codecarbon DEBUG @ 09:48:09] _get_power_from_cpus - DONT MATCH Processor Energy Delta_1(kWh) : 0.0005396375475430273\n",
      "[codecarbon DEBUG @ 09:48:09] _get_power_from_cpus - MATCH Processor Power Delta_1(kWh) : 129.26518787899155\n",
      "[codecarbon INFO @ 09:48:09] Energy consumed for all CPUs : 0.003261 kWh. Total CPU Power : 258.53270675759234 W\n",
      "[codecarbon DEBUG @ 09:48:09] get_static_cpu_details {'Processor Energy Delta_0(kWh)': 0.0005396472786619241, 'Processor Power Delta_0(kWh)': 129.2675188786008, 'Processor Energy Delta_1(kWh)': 0.0005396375475430273, 'Processor Power Delta_1(kWh)': 129.26518787899155}\n",
      "[codecarbon DEBUG @ 09:48:09] _get_power_from_cpus - DONT MATCH Processor Energy Delta_0(kWh) : 0.0005396472786619241\n",
      "[codecarbon DEBUG @ 09:48:09] _get_power_from_cpus - MATCH Processor Power Delta_0(kWh) : 129.2675188786008\n",
      "[codecarbon DEBUG @ 09:48:09] _get_power_from_cpus - DONT MATCH Processor Energy Delta_1(kWh) : 0.0005396375475430273\n",
      "[codecarbon DEBUG @ 09:48:09] _get_power_from_cpus - MATCH Processor Power Delta_1(kWh) : 129.26518787899155\n",
      "[codecarbon DEBUG @ 09:48:09] CPU : 258.53 W during 15.03 s [measurement time: 0.0159]\n",
      "[codecarbon INFO @ 09:48:09] 0.004302 kWh of electricity used since the beginning.\n",
      "[codecarbon DEBUG @ 09:48:09] last_duration=15.028757572174072\n",
      "------------------------\n"
     ]
    },
    {
     "name": "stdout",
     "output_type": "stream",
     "text": [
      "25:      40179  2733   1679  45875  |     917865  2863   2853  81684\n",
      "----------------------------------  | ------------------------------\n",
      "Avr:            2785   1673  46611  |             2831   2907  82277\n",
      "Tot:            2808   2290  64444\n"
     ]
    }
   ],
   "source": [
    "# If you have compression tool 7z it's an easy way to load you CPU for few seconds.\n",
    "!7z b"
   ]
  },
  {
   "attachments": {},
   "cell_type": "markdown",
   "metadata": {},
   "source": [
    "Don't forget to use try...finally because CodeCarbon use a scheduler and it will continue running even if your code crash."
   ]
  },
  {
   "cell_type": "code",
   "execution_count": 3,
   "metadata": {},
   "outputs": [
    {
     "name": "stderr",
     "output_type": "stream",
     "text": [
      "[codecarbon INFO @ 09:48:22] Energy consumed for RAM : 0.000187 kWh. RAM Power : 11.698762893676758 W\n",
      "[codecarbon DEBUG @ 09:48:22] RAM : 11.70 W during 12.76 s [measurement time: 0.0030]\n",
      "[codecarbon INFO @ 09:48:22] Energy consumed for all GPUs : 0.001146 kWh. Total GPU Power : 70.91 W\n",
      "[codecarbon DEBUG @ 09:48:22] GPU : 70.67 W during 12.76 s [measurement time: 0.0073]\n",
      "[codecarbon DEBUG @ 09:48:22] RAPLFile(name='Processor Energy Delta_0(kWh)', path='/sys/class/powercap/intel-rapl/intel-rapl:1/energy_uj', max_path='/sys/class/powercap/intel-rapl/intel-rapl:1/max_energy_range_uj', energy_delta=Energy(kWh=0.0004652354621880704), power=Power(kW=0.13096866767096907), last_energy=Energy(kWh=0.017994248475942817), max_energy_reading=Energy(kWh=0.018203517614746884))\n",
      "[codecarbon DEBUG @ 09:48:22] RAPLFile(name='Processor Energy Delta_1(kWh)', path='/sys/class/powercap/intel-rapl/intel-rapl:0/energy_uj', max_path='/sys/class/powercap/intel-rapl/intel-rapl:0/max_energy_range_uj', energy_delta=Energy(kWh=0.0004652569841497346), power=Power(kW=0.13097472632916243), last_energy=Energy(kWh=0.01799430276043069), max_energy_reading=Energy(kWh=0.018203517614746884))\n",
      "[codecarbon DEBUG @ 09:48:22] get_cpu_details {'Processor Energy Delta_0(kWh)': 0.0004652354621880704, 'Processor Power Delta_0(kWh)': 130.96866767096907, 'Processor Energy Delta_1(kWh)': 0.0004652569841497346, 'Processor Power Delta_1(kWh)': 130.97472632916242}\n",
      "[codecarbon DEBUG @ 09:48:22] get_static_cpu_details {'Processor Energy Delta_0(kWh)': 0.0004652354621880704, 'Processor Power Delta_0(kWh)': 130.96866767096907, 'Processor Energy Delta_1(kWh)': 0.0004652569841497346, 'Processor Power Delta_1(kWh)': 130.97472632916242}\n",
      "[codecarbon DEBUG @ 09:48:22] _get_power_from_cpus - DONT MATCH Processor Energy Delta_0(kWh) : 0.0004652354621880704\n",
      "[codecarbon DEBUG @ 09:48:22] _get_power_from_cpus - MATCH Processor Power Delta_0(kWh) : 130.96866767096907\n",
      "[codecarbon DEBUG @ 09:48:22] _get_power_from_cpus - DONT MATCH Processor Energy Delta_1(kWh) : 0.0004652569841497346\n",
      "[codecarbon DEBUG @ 09:48:22] _get_power_from_cpus - MATCH Processor Power Delta_1(kWh) : 130.97472632916242\n",
      "[codecarbon INFO @ 09:48:22] Energy consumed for all CPUs : 0.004192 kWh. Total CPU Power : 261.9433940001315 W\n",
      "[codecarbon DEBUG @ 09:48:22] get_static_cpu_details {'Processor Energy Delta_0(kWh)': 0.0004652354621880704, 'Processor Power Delta_0(kWh)': 130.96866767096907, 'Processor Energy Delta_1(kWh)': 0.0004652569841497346, 'Processor Power Delta_1(kWh)': 130.97472632916242}\n",
      "[codecarbon DEBUG @ 09:48:22] _get_power_from_cpus - DONT MATCH Processor Energy Delta_0(kWh) : 0.0004652354621880704\n",
      "[codecarbon DEBUG @ 09:48:22] _get_power_from_cpus - MATCH Processor Power Delta_0(kWh) : 130.96866767096907\n",
      "[codecarbon DEBUG @ 09:48:22] _get_power_from_cpus - DONT MATCH Processor Energy Delta_1(kWh) : 0.0004652569841497346\n",
      "[codecarbon DEBUG @ 09:48:22] _get_power_from_cpus - MATCH Processor Power Delta_1(kWh) : 130.97472632916242\n",
      "[codecarbon DEBUG @ 09:48:22] CPU : 261.94 W during 12.79 s [measurement time: 0.0078]\n",
      "[codecarbon INFO @ 09:48:22] 0.005525 kWh of electricity used since the beginning.\n",
      "[codecarbon DEBUG @ 09:48:22] last_duration=12.788155317306519\n",
      "------------------------\n",
      "[codecarbon DEBUG @ 09:48:22] We apply an energy mix of 58 g.CO2eq/kWh for France\n",
      "[codecarbon DEBUG @ 09:48:22] EmissionsData(timestamp='2023-05-31T09:48:22', project_name='codecarbon', run_id='5f23a1c1-2b2b-4a2d-93c8-8b667b6a931b', duration=57.89862680435181, emissions=0.0003206346111965286, emissions_rate=5.537862103016732e-06, cpu_power=261.9433940001315, gpu_power=70.91, ram_power=11.698762893676758, cpu_energy=0.0041919793652474766, gpu_energy=0.0011456338008917042, ram_energy=0.0001873310251371159, energy_consumed=0.005524944191276296, country_name='France', country_iso_code='FRA', region='île-de-france', cloud_provider='', cloud_region='', os='Linux-5.19.0-42-generic-x86_64-with-glibc2.35', python_version='3.10.6', codecarbon_version='2.2.2', cpu_count=32, cpu_model='AMD Ryzen Threadripper 1950X 16-Core Processor', gpu_count=1, gpu_model='1 x NVIDIA GeForce GTX 1080 Ti', longitude=2.3859, latitude=48.6831, ram_total_size=31.196701049804688, tracking_mode='machine', on_cloud='N', pue=1.0)\n"
     ]
    },
    {
     "name": "stdout",
     "output_type": "stream",
     "text": [
      "Emissions: 0.0003206346111965286 kg\n"
     ]
    }
   ],
   "source": [
    "try:\n",
    "    # Heavy machine learning training\n",
    "    assert 1 + 1 == 2\n",
    "finally:\n",
    "    # Stop recording\n",
    "    emissions: float = tracker.stop()\n",
    "    print(f\"Emissions: {emissions} kg\")\n"
   ]
  },
  {
   "attachments": {},
   "cell_type": "markdown",
   "metadata": {
    "tags": []
   },
   "source": [
    "## Get all data\n",
    "\n",
    "You can call `tracker._prepare_emissions_data()` to get all data:"
   ]
  },
  {
   "cell_type": "code",
   "execution_count": 5,
   "metadata": {
    "tags": []
   },
   "outputs": [
    {
     "name": "stderr",
     "output_type": "stream",
     "text": [
      "[codecarbon DEBUG @ 09:50:26] We apply an energy mix of 58 g.CO2eq/kWh for France\n",
      "[codecarbon DEBUG @ 09:50:26] EmissionsData(timestamp='2023-05-31T09:50:26', project_name='codecarbon', run_id='5f23a1c1-2b2b-4a2d-93c8-8b667b6a931b', duration=181.5837595462799, emissions=0.0003206346111965286, emissions_rate=1.7657670047018111e-06, cpu_power=261.9433940001315, gpu_power=70.91, ram_power=11.698762893676758, cpu_energy=0.0041919793652474766, gpu_energy=0.0011456338008917042, ram_energy=0.0001873310251371159, energy_consumed=0.005524944191276296, country_name='France', country_iso_code='FRA', region='île-de-france', cloud_provider='', cloud_region='', os='Linux-5.19.0-42-generic-x86_64-with-glibc2.35', python_version='3.10.6', codecarbon_version='2.2.2', cpu_count=32, cpu_model='AMD Ryzen Threadripper 1950X 16-Core Processor', gpu_count=1, gpu_model='1 x NVIDIA GeForce GTX 1080 Ti', longitude=2.3859, latitude=48.6831, ram_total_size=31.196701049804688, tracking_mode='machine', on_cloud='N', pue=1.0)\n"
     ]
    },
    {
     "data": {
      "text/plain": [
       "EmissionsData(timestamp='2023-05-31T09:50:26', project_name='codecarbon', run_id='5f23a1c1-2b2b-4a2d-93c8-8b667b6a931b', duration=181.5837595462799, emissions=0.0003206346111965286, emissions_rate=1.7657670047018111e-06, cpu_power=261.9433940001315, gpu_power=70.91, ram_power=11.698762893676758, cpu_energy=0.0041919793652474766, gpu_energy=0.0011456338008917042, ram_energy=0.0001873310251371159, energy_consumed=0.005524944191276296, country_name='France', country_iso_code='FRA', region='île-de-france', cloud_provider='', cloud_region='', os='Linux-5.19.0-42-generic-x86_64-with-glibc2.35', python_version='3.10.6', codecarbon_version='2.2.2', cpu_count=32, cpu_model='AMD Ryzen Threadripper 1950X 16-Core Processor', gpu_count=1, gpu_model='1 x NVIDIA GeForce GTX 1080 Ti', longitude=2.3859, latitude=48.6831, ram_total_size=31.196701049804688, tracking_mode='machine', on_cloud='N', pue=1.0)"
      ]
     },
     "execution_count": 5,
     "metadata": {},
     "output_type": "execute_result"
    }
   ],
   "source": [
    "tracker._prepare_emissions_data()"
   ]
  }
 ],
 "metadata": {
  "kernelspec": {
   "display_name": "Python 3 (ipykernel)",
   "language": "python",
   "name": "python3"
  },
  "language_info": {
   "codemirror_mode": {
    "name": "ipython",
    "version": 3
   },
   "file_extension": ".py",
   "mimetype": "text/x-python",
   "name": "python",
   "nbconvert_exporter": "python",
   "pygments_lexer": "ipython3",
   "version": "3.10.6"
  }
 },
 "nbformat": 4,
 "nbformat_minor": 4
}
